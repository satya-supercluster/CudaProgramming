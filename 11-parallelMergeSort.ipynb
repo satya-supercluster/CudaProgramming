{
 "cells": [
  {
   "cell_type": "code",
   "execution_count": null,
   "id": "02eb7575",
   "metadata": {},
   "outputs": [],
   "source": [
    "!nvcc --version\n",
    "%pip install nvcc4jupyter\n",
    "%load_ext nvcc4jupyter"
   ]
  },
  {
   "cell_type": "code",
   "execution_count": 4,
   "id": "f88f657d",
   "metadata": {},
   "outputs": [
    {
     "name": "stdout",
     "output_type": "stream",
     "text": [
      "Unsorted array:\n",
      "41 67 34 0 69 24 78 58 62 64 5 45 81 27 61 91 \n",
      "\n",
      "Sorted array:\n",
      "0 5 24 27 34 41 45 58 61 62 64 67 69 78 81 91 \n",
      "\n"
     ]
    }
   ],
   "source": [
    "%%cuda\n",
    "#include <stdio.h>\n",
    "#include <stdlib.h>\n",
    "\n",
    "#define N 16\n",
    "\n",
    "__global__ \n",
    "void mergeKernel(int *input, int *output, int width, int size) {\n",
    "    int tid = blockIdx.x * blockDim.x + threadIdx.x;\n",
    "    int start = tid * 2 * width;\n",
    "\n",
    "    if (start >= size) return;\n",
    "\n",
    "    int mid = min(start + width, size);\n",
    "    int end = min(start + 2 * width, size);\n",
    "\n",
    "    int i = start, j = mid, k = start;\n",
    "\n",
    "    while (i < mid && j < end) {\n",
    "        if (input[i] <= input[j])\n",
    "            output[k++] = input[i++];\n",
    "        else\n",
    "            output[k++] = input[j++];\n",
    "    }\n",
    "\n",
    "    while (i < mid)\n",
    "        output[k++] = input[i++];\n",
    "    while (j < end)\n",
    "        output[k++] = input[j++];\n",
    "}\n",
    "\n",
    "\n",
    "int main() {\n",
    "    int h_input[N],h_output[N], *d_input, *d_output;\n",
    "\n",
    "    printf(\"Unsorted array:\\n\");\n",
    "    for (int i = 0; i < N; i++) {\n",
    "        h_input[i] = rand() % 100;\n",
    "        printf(\"%d \", h_input[i]);\n",
    "    }\n",
    "    printf(\"\\n\");\n",
    "\n",
    "    size_t bytes = N * sizeof(int);\n",
    "    cudaMalloc(&d_input, bytes);\n",
    "    cudaMalloc(&d_output, bytes);\n",
    "    cudaMemcpy(d_input, h_input, bytes, cudaMemcpyHostToDevice);\n",
    "\n",
    "    int *in = d_input;\n",
    "    int *out = d_output;\n",
    "\n",
    "    for (int width = 1; width < N; width *= 2) {\n",
    "        int threads = (N + 2 * width - 1) / (2 * width);\n",
    "        mergeKernel<<<(threads + 255) / 256, 256>>>(in, out, width, N);\n",
    "        cudaDeviceSynchronize();\n",
    "\n",
    "        int *temp = in;\n",
    "        in = out;\n",
    "        out = temp;\n",
    "    }\n",
    "\n",
    "    cudaMemcpy(h_output, in, bytes, cudaMemcpyDeviceToHost);\n",
    "\n",
    "    printf(\"\\nSorted array:\\n\");\n",
    "    for (int i = 0; i < N; i++)\n",
    "        printf(\"%d \", h_output[i]);\n",
    "    printf(\"\\n\");\n",
    "\n",
    "    cudaFree(d_input);\n",
    "    cudaFree(d_output);\n",
    "\n",
    "    return 0;\n",
    "}\n"
   ]
  }
 ],
 "metadata": {
  "kernelspec": {
   "display_name": "Python 3",
   "language": "python",
   "name": "python3"
  },
  "language_info": {
   "codemirror_mode": {
    "name": "ipython",
    "version": 3
   },
   "file_extension": ".py",
   "mimetype": "text/x-python",
   "name": "python",
   "nbconvert_exporter": "python",
   "pygments_lexer": "ipython3",
   "version": "3.12.3"
  }
 },
 "nbformat": 4,
 "nbformat_minor": 5
}
