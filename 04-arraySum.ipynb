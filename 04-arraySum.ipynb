{
 "cells": [
  {
   "cell_type": "code",
   "execution_count": null,
   "id": "0d8e11e5",
   "metadata": {},
   "outputs": [],
   "source": [
    "!nvcc --version\n",
    "%pip install nvcc4jupyter\n",
    "%load_ext nvcc4jupyter"
   ]
  },
  {
   "cell_type": "code",
   "execution_count": 14,
   "id": "b4daf980",
   "metadata": {},
   "outputs": [
    {
     "name": "stdout",
     "output_type": "stream",
     "text": [
      "0 1 2 3 4 5 6 7 8 9 10 11 12 13 14 15 16 17 18 19 \n",
      "Sum: 190\n",
      "\n"
     ]
    }
   ],
   "source": [
    "%%cuda\n",
    "#include<stdio.h>\n",
    "#include<stdlib.h>\n",
    "#define N 20\n",
    "#define BLOCK_SIZE 256\n",
    "\n",
    "__global__\n",
    "void addArray(int* arr,int* sumOutput){\n",
    "    __shared__ \n",
    "    int sharedSum[BLOCK_SIZE];\n",
    "\n",
    "    int tid = threadIdx.x;\n",
    "    int i = blockIdx.x * blockDim.x + tid;\n",
    "\n",
    "    if(i<N){\n",
    "        sharedSum[tid] = arr[i];\n",
    "    }\n",
    "    else{\n",
    "        sharedSum[tid] = 0;\n",
    "    }\n",
    "    __syncthreads();\n",
    "\n",
    "    for(int stride = blockDim.x/2; stride > 0 ; stride >>= 1 ){\n",
    "        if(tid<stride){\n",
    "            sharedSum[tid] = sharedSum[tid] + sharedSum[tid+stride];\n",
    "        }\n",
    "        __syncthreads();\n",
    "    }\n",
    "\n",
    "    if( tid == 0){\n",
    "        sumOutput[blockIdx.x] = sharedSum[0];\n",
    "    }\n",
    "}\n",
    "\n",
    "int main(){\n",
    "    size_t sz = N*sizeof(int);\n",
    "    int numberOfBlocks = (N+BLOCK_SIZE-1)/BLOCK_SIZE;\n",
    "    size_t szB = numberOfBlocks*sizeof(int);\n",
    "\n",
    "    int* h_array=(int*)malloc(sz);\n",
    "    int* h_blockSum=(int*)malloc(szB);\n",
    "    int finalSum=0;\n",
    "\n",
    "    for (int i = 0; i < N; i++) {\n",
    "        h_array[i] = i;\n",
    "        printf(\"%d \",h_array[i]);\n",
    "    }\n",
    "    printf(\"\\n\");\n",
    "\n",
    "    int *d_array,*d_blockSum;\n",
    "\n",
    "    cudaMalloc((void**)&d_array,sz);\n",
    "    cudaMalloc((void**)&d_blockSum,szB);\n",
    "\n",
    "    cudaMemcpy(d_array,h_array,sz,cudaMemcpyHostToDevice);\n",
    "\n",
    "    addArray<<<numberOfBlocks,BLOCK_SIZE>>>(d_array,d_blockSum);\n",
    "\n",
    "    cudaMemcpy(h_blockSum,d_blockSum,szB,cudaMemcpyDeviceToHost);\n",
    "\n",
    "    for(int i=0;i<numberOfBlocks;i++){\n",
    "        finalSum=finalSum+h_blockSum[i];\n",
    "    }\n",
    "\n",
    "    printf(\"Sum: %d\\n\",finalSum);\n",
    "\n",
    "    cudaFree(d_array);\n",
    "    cudaFree(d_blockSum);\n",
    "    free(h_array);\n",
    "    free(h_blockSum);\n",
    "\n",
    "    return 0;\n",
    "}\n"
   ]
  }
 ],
 "metadata": {
  "kernelspec": {
   "display_name": "Python 3",
   "language": "python",
   "name": "python3"
  },
  "language_info": {
   "codemirror_mode": {
    "name": "ipython",
    "version": 3
   },
   "file_extension": ".py",
   "mimetype": "text/x-python",
   "name": "python",
   "nbconvert_exporter": "python",
   "pygments_lexer": "ipython3",
   "version": "3.12.3"
  }
 },
 "nbformat": 4,
 "nbformat_minor": 5
}
