{
 "cells": [
  {
   "cell_type": "code",
   "execution_count": null,
   "id": "e3dc423b",
   "metadata": {},
   "outputs": [],
   "source": [
    "!nvcc --version\n",
    "%pip install nvcc4jupyter\n",
    "%load_ext nvcc4jupyter"
   ]
  },
  {
   "cell_type": "code",
   "execution_count": 9,
   "id": "2586808a",
   "metadata": {},
   "outputs": [
    {
     "name": "stdout",
     "output_type": "stream",
     "text": [
      "Word Frequencies:\n",
      "\n",
      "hello: 2\n",
      "\n",
      "this: 2\n",
      "\n",
      "is: 2\n",
      "\n",
      "satyam: 1\n",
      "\n",
      "suyash: 1\n",
      "\n",
      ": 1\n",
      "\n",
      "\n"
     ]
    }
   ],
   "source": [
    "%%cuda\n",
    "#include <stdio.h>\n",
    "#include <stdlib.h>\n",
    "#include <string.h>\n",
    "#include <ctype.h>\n",
    "\n",
    "#define MAX_WORDS 1000\n",
    "#define MAX_WORD_LEN 100\n",
    "\n",
    "typedef struct {\n",
    "    char word[MAX_WORD_LEN];\n",
    "    int count;\n",
    "} WordFreq;\n",
    "\n",
    "void toLower(char* str) {\n",
    "    for (int i = 0; str[i]; ++i)\n",
    "        str[i] = tolower(str[i]);\n",
    "}\n",
    "\n",
    "int findWord(WordFreq* list, int size, const char* word) {\n",
    "    for (int i = 0; i < size; ++i) {\n",
    "        if (strncmp(list[i].word, word, MAX_WORD_LEN) == 0)\n",
    "            return i;\n",
    "    }\n",
    "    return -1;\n",
    "}\n",
    "\n",
    "int main() {\n",
    "    FILE* file = fopen(\"./07-input.txt\", \"r\");\n",
    "    if (!file) {\n",
    "        printf(\"Could not open input.txt\\n\");\n",
    "        return 1;\n",
    "    }\n",
    "\n",
    "    WordFreq wordList[MAX_WORDS];\n",
    "    int wordCount = 0;\n",
    "\n",
    "    char buffer[10000];\n",
    "    fread(buffer, 1, sizeof(buffer) - 1, file);\n",
    "    fclose(file);\n",
    "\n",
    "    buffer[sizeof(buffer) - 1] = '\\0';\n",
    "\n",
    "    const char* delim = \" \\n\\t,.!?;:\\\"()[]{}<>-|\\\\/@#$%^&*_+=~`'\";\n",
    "    char* token = strtok(buffer, delim);\n",
    "\n",
    "    while (token != NULL) {\n",
    "        toLower(token);\n",
    "        int index = findWord(wordList, wordCount, token);\n",
    "        if (index != -1) {\n",
    "            wordList[index].count++;\n",
    "        } else {\n",
    "            if (wordCount < MAX_WORDS) {\n",
    "                strcpy(wordList[wordCount].word, token);\n",
    "                wordList[wordCount].count = 1;\n",
    "                wordCount++;\n",
    "            }\n",
    "        }\n",
    "        token = strtok(NULL, delim);\n",
    "    }\n",
    "\n",
    "    printf(\"Word Frequencies:\\n\\n\");\n",
    "    for (int i = 0; i < wordCount; ++i) {\n",
    "        printf(\"%s: %d\\n\\n\", wordList[i].word, wordList[i].count);\n",
    "    }\n",
    "\n",
    "    return 0;\n",
    "}\n"
   ]
  }
 ],
 "metadata": {
  "kernelspec": {
   "display_name": "Python 3",
   "language": "python",
   "name": "python3"
  },
  "language_info": {
   "codemirror_mode": {
    "name": "ipython",
    "version": 3
   },
   "file_extension": ".py",
   "mimetype": "text/x-python",
   "name": "python",
   "nbconvert_exporter": "python",
   "pygments_lexer": "ipython3",
   "version": "3.12.3"
  }
 },
 "nbformat": 4,
 "nbformat_minor": 5
}
