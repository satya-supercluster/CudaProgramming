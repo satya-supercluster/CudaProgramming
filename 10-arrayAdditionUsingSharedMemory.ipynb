{
 "cells": [
  {
   "cell_type": "code",
   "execution_count": null,
   "id": "5553fd6b",
   "metadata": {},
   "outputs": [],
   "source": [
    "!nvcc --version\n",
    "%pip install nvcc4jupyter\n",
    "%load_ext nvcc4jupyter"
   ]
  },
  {
   "cell_type": "code",
   "execution_count": 8,
   "id": "39085868",
   "metadata": {},
   "outputs": [
    {
     "name": "stdout",
     "output_type": "stream",
     "text": [
      "0.000 + 0.000 = 0.000\n",
      "1.000 + 2.000 = 3.000\n",
      "2.000 + 4.000 = 6.000\n",
      "3.000 + 6.000 = 9.000\n",
      "4.000 + 8.000 = 12.000\n",
      "5.000 + 10.000 = 15.000\n",
      "6.000 + 12.000 = 18.000\n",
      "7.000 + 14.000 = 21.000\n",
      "8.000 + 16.000 = 24.000\n",
      "9.000 + 18.000 = 27.000\n",
      "10.000 + 20.000 = 30.000\n",
      "11.000 + 22.000 = 33.000\n",
      "12.000 + 24.000 = 36.000\n",
      "13.000 + 26.000 = 39.000\n",
      "14.000 + 28.000 = 42.000\n",
      "15.000 + 30.000 = 45.000\n",
      "16.000 + 32.000 = 48.000\n",
      "17.000 + 34.000 = 51.000\n",
      "18.000 + 36.000 = 54.000\n",
      "19.000 + 38.000 = 57.000\n",
      "\n"
     ]
    }
   ],
   "source": [
    "%%cuda\n",
    "#include <stdio.h>\n",
    "#include <cuda_runtime.h>\n",
    "\n",
    "#define n 20\n",
    "#define BLOCK_SIZE 256\n",
    "\n",
    "__global__ \n",
    "void addArrays(float *a, float *b, float *c) {\n",
    "    __shared__ float sharedA[BLOCK_SIZE];\n",
    "    __shared__ float sharedB[BLOCK_SIZE];\n",
    "\n",
    "    int index = blockIdx.x * blockDim.x + threadIdx.x;\n",
    "    \n",
    "    if (index < n) {\n",
    "        sharedA[threadIdx.x] = a[index];\n",
    "        sharedB[threadIdx.x] = b[index];\n",
    "    }\n",
    "    __syncthreads();\n",
    "\n",
    "    if (index < n) {\n",
    "        c[index] = sharedA[threadIdx.x] + sharedB[threadIdx.x];\n",
    "    }\n",
    "}\n",
    "\n",
    "\n",
    "int main() {\n",
    "    float a[n], b[n], c[n];\n",
    "    float *d_a, *d_b, *d_c;\n",
    "\n",
    "    size_t sz = n * sizeof(float);\n",
    "    \n",
    "    for (int i = 0; i < n; ++i) {\n",
    "        a[i] = i;\n",
    "        b[i] = 2 * i;\n",
    "    }\n",
    "    \n",
    "    cudaMalloc((void **)&d_a, sz);\n",
    "    cudaMalloc((void **)&d_b, sz);\n",
    "    cudaMalloc((void **)&d_c, sz);\n",
    "    \n",
    "    cudaMemcpy(d_a, a, sz, cudaMemcpyHostToDevice);\n",
    "    cudaMemcpy(d_b, b, sz, cudaMemcpyHostToDevice);\n",
    "\n",
    "    int blockSize = 256;\n",
    "    int numBlocks = (n + blockSize - 1) / blockSize;\n",
    "\n",
    "    addArrays<<<numBlocks, blockSize>>>(d_a, d_b, d_c);\n",
    "\n",
    "    cudaMemcpy(c, d_c,sz, cudaMemcpyDeviceToHost);\n",
    "    cudaFree(d_a);\n",
    "    cudaFree(d_b);\n",
    "    cudaFree(d_c);\n",
    "    \n",
    "    for (int i = 0; i < n; ++i) {\n",
    "        printf(\"%5.3f + %5.3f = %5.3f\\n\", a[i], b[i], c[i]);\n",
    "    }\n",
    "\n",
    "    return 0;\n",
    "}\n"
   ]
  }
 ],
 "metadata": {
  "kernelspec": {
   "display_name": "Python 3",
   "language": "python",
   "name": "python3"
  },
  "language_info": {
   "codemirror_mode": {
    "name": "ipython",
    "version": 3
   },
   "file_extension": ".py",
   "mimetype": "text/x-python",
   "name": "python",
   "nbconvert_exporter": "python",
   "pygments_lexer": "ipython3",
   "version": "3.12.3"
  }
 },
 "nbformat": 4,
 "nbformat_minor": 5
}
