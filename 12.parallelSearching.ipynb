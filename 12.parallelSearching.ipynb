{
 "cells": [
  {
   "cell_type": "code",
   "execution_count": null,
   "id": "5fa914c4",
   "metadata": {},
   "outputs": [],
   "source": [
    "!nvcc --version\n",
    "%pip install nvcc4jupyter\n",
    "%load_ext nvcc4jupyter"
   ]
  },
  {
   "cell_type": "code",
   "execution_count": 4,
   "id": "b96a750a",
   "metadata": {},
   "outputs": [
    {
     "name": "stdout",
     "output_type": "stream",
     "text": [
      "Array:\n",
      "41 17 34 0 19 24 28 8 12 14 5 45 31 27 11 41 45 42 27 36 41 4 2 3 42 32 21 16 18 45 47 26 \n",
      "Target 42 found at index 24\n",
      "\n"
     ]
    }
   ],
   "source": [
    "%%cuda\n",
    "#include <stdio.h>\n",
    "#include <stdlib.h>\n",
    "\n",
    "#define N 32\n",
    "#define THREADS_PER_BLOCK 8\n",
    "\n",
    "__global__ \n",
    "void parallelSearch(int *arr, int target, int *result) {\n",
    "    int idx = blockIdx.x * blockDim.x + threadIdx.x;\n",
    "    \n",
    "    if (idx < N) {\n",
    "        if (arr[idx] == target) {\n",
    "            result[0] = idx;\n",
    "        }\n",
    "    }\n",
    "}\n",
    "\n",
    "int main() {\n",
    "    int h_array[N];\n",
    "    int target = 42;\n",
    "    int h_result[1] = {-1};\n",
    "\n",
    "    for (int i = 0; i < N; i++) {\n",
    "        h_array[i] = rand() % 50;\n",
    "    }\n",
    "\n",
    "    printf(\"Array:\\n\");\n",
    "    for (int i = 0; i < N; i++) {\n",
    "        printf(\"%d \", h_array[i]);\n",
    "    }\n",
    "    printf(\"\\n\");\n",
    "\n",
    "    int *d_array, *d_result;\n",
    "    cudaMalloc(&d_array, N * sizeof(int));\n",
    "    cudaMalloc(&d_result, sizeof(int));\n",
    "\n",
    "    cudaMemcpy(d_array, h_array, N * sizeof(int), cudaMemcpyHostToDevice);\n",
    "    cudaMemcpy(d_result, h_result, sizeof(int), cudaMemcpyHostToDevice);\n",
    "\n",
    "    int blocks = (N + THREADS_PER_BLOCK - 1) / THREADS_PER_BLOCK;\n",
    "    parallelSearch<<<blocks, THREADS_PER_BLOCK>>>(d_array, target, d_result);\n",
    "    cudaDeviceSynchronize();\n",
    "\n",
    "    cudaMemcpy(h_result, d_result, sizeof(int), cudaMemcpyDeviceToHost);\n",
    "\n",
    "    if (h_result[0] != -1)\n",
    "        printf(\"Target %d found at index %d\\n\", target, h_result[0]);\n",
    "    else\n",
    "        printf(\"Target %d not found.\\n\", target);\n",
    "\n",
    "    cudaFree(d_array);\n",
    "    cudaFree(d_result);\n",
    "\n",
    "    return 0;\n",
    "}\n"
   ]
  }
 ],
 "metadata": {
  "kernelspec": {
   "display_name": "Python 3",
   "language": "python",
   "name": "python3"
  },
  "language_info": {
   "codemirror_mode": {
    "name": "ipython",
    "version": 3
   },
   "file_extension": ".py",
   "mimetype": "text/x-python",
   "name": "python",
   "nbconvert_exporter": "python",
   "pygments_lexer": "ipython3",
   "version": "3.12.3"
  }
 },
 "nbformat": 4,
 "nbformat_minor": 5
}
