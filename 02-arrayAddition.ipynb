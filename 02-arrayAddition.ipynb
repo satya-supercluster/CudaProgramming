{
 "cells": [
  {
   "cell_type": "code",
   "execution_count": 11,
   "id": "a31537fa",
   "metadata": {},
   "outputs": [
    {
     "name": "stdout",
     "output_type": "stream",
     "text": [
      "nvcc: NVIDIA (R) Cuda compiler driver\n",
      "Copyright (c) 2005-2024 NVIDIA Corporation\n",
      "Built on Thu_Mar_28_02:30:10_Pacific_Daylight_Time_2024\n",
      "Cuda compilation tools, release 12.4, V12.4.131\n",
      "Build cuda_12.4.r12.4/compiler.34097967_0\n",
      "Requirement already satisfied: nvcc4jupyter in c:\\python312\\lib\\site-packages (1.2.1)\n",
      "The nvcc4jupyter extension is already loaded. To reload it, use:\n",
      "  %reload_ext nvcc4jupyter\n"
     ]
    },
    {
     "name": "stderr",
     "output_type": "stream",
     "text": [
      "WARNING: Ignoring invalid distribution ~ (C:\\Python312\\Lib\\site-packages)\n",
      "WARNING: Ignoring invalid distribution ~ip (C:\\Python312\\Lib\\site-packages)\n",
      "WARNING: Ignoring invalid distribution ~ (C:\\Python312\\Lib\\site-packages)\n",
      "WARNING: Ignoring invalid distribution ~ip (C:\\Python312\\Lib\\site-packages)\n",
      "WARNING: Ignoring invalid distribution ~ (C:\\Python312\\Lib\\site-packages)\n",
      "WARNING: Ignoring invalid distribution ~ip (C:\\Python312\\Lib\\site-packages)\n"
     ]
    }
   ],
   "source": [
    "!nvcc --version\n",
    "!pip install nvcc4jupyter\n",
    "%load_ext nvcc4jupyter"
   ]
  },
  {
   "cell_type": "code",
   "execution_count": 14,
   "id": "e07eff9e",
   "metadata": {},
   "outputs": [
    {
     "name": "stdout",
     "output_type": "stream",
     "text": [
      "0 + 0 = 0\n",
      "1 + 2 = 3\n",
      "2 + 4 = 6\n",
      "3 + 6 = 9\n",
      "4 + 8 = 12\n",
      "5 + 10 = 15\n",
      "6 + 12 = 18\n",
      "7 + 14 = 21\n",
      "8 + 16 = 24\n",
      "9 + 18 = 27\n",
      "\n"
     ]
    }
   ],
   "source": [
    "%%cuda\n",
    "#include <stdio.h>\n",
    "#include <cuda_runtime.h>\n",
    "\n",
    "__global__\n",
    "void addArrays(int *a, int *b, int *c, int n) {\n",
    "    int tid = blockIdx.x * blockDim.x + threadIdx.x;\n",
    "    if (tid < n) {\n",
    "        c[tid] = a[tid] + b[tid];\n",
    "    }\n",
    "}\n",
    "\n",
    "int main() {\n",
    "    const int n = 10;\n",
    "    int a[n], b[n], c[n];\n",
    "    int *d_a, *d_b, *d_c;\n",
    "\n",
    "    size_t sz = n * sizeof(int);\n",
    "    \n",
    "    for (int i = 0; i < n; ++i) {\n",
    "        a[i] = i;\n",
    "        b[i] = 2 * i;\n",
    "    }\n",
    "    \n",
    "    cudaMalloc((void **)&d_a, sz);\n",
    "    cudaMalloc((void **)&d_b, sz);\n",
    "    cudaMalloc((void **)&d_c, sz);\n",
    "    \n",
    "    cudaMemcpy(d_a, a, sz, cudaMemcpyHostToDevice);\n",
    "    cudaMemcpy(d_b, b, sz, cudaMemcpyHostToDevice);\n",
    "\n",
    "    int blockSize = 256;\n",
    "    int numBlocks = (n + blockSize - 1) / blockSize;\n",
    "\n",
    "    addArrays<<<numBlocks, blockSize>>>(d_a, d_b, d_c, n);\n",
    "\n",
    "    cudaDeviceSynchronize();\n",
    "    cudaMemcpy(c, d_c,sz, cudaMemcpyDeviceToHost);\n",
    "    cudaFree(d_a);\n",
    "    cudaFree(d_b);\n",
    "    cudaFree(d_c);\n",
    "    \n",
    "    for (int i = 0; i < n; ++i) {\n",
    "        printf(\"%d + %d = %d\\n\", a[i], b[i], c[i]);\n",
    "    }\n",
    "\n",
    "    return 0;\n",
    "}\n"
   ]
  }
 ],
 "metadata": {
  "kernelspec": {
   "display_name": "Python 3",
   "language": "python",
   "name": "python3"
  },
  "language_info": {
   "codemirror_mode": {
    "name": "ipython",
    "version": 3
   },
   "file_extension": ".py",
   "mimetype": "text/x-python",
   "name": "python",
   "nbconvert_exporter": "python",
   "pygments_lexer": "ipython3",
   "version": "3.12.3"
  }
 },
 "nbformat": 4,
 "nbformat_minor": 5
}
